{
 "cells": [
  {
   "cell_type": "code",
   "execution_count": 11,
   "metadata": {},
   "outputs": [],
   "source": [
    "import numpy as np\n",
    "import pandas as pd\n",
    "import matplotlib.pyplot as plt\n",
    "import seaborn as sns"
   ]
  },
  {
   "cell_type": "code",
   "execution_count": 23,
   "metadata": {},
   "outputs": [],
   "source": [
    "def pre_poccess(dataset):\n",
    "    \n",
    "    ##adding indivdual where agency is not given\n",
    "    dataset['agency'][dataset['agency'].isnull()] = 'Individual'\n",
    "    dataset.drop(['agent'],axis=1, inplace=True)\n",
    "    \n",
    "    #using the conversion of urban https://www.zameen.com/forum/discussions/other_and_misc/kanal__marla__square_feet__square_yards_conversion-12358.html\n",
    "    converted_area = []\n",
    "    for area in dataset['area']:\n",
    "        if area.endswith('Marla'):\n",
    "            #print(\"MARLA\", str(area))\n",
    "            converted_area.append(float(area.split()[0].replace(',', '')) * 500)\n",
    "        if area.endswith('Kanal'):\n",
    "            #print(\"Kanal\", str(area))\n",
    "            converted_area.append(float(area.split()[0].replace(',', '')) * 25)\n",
    "            \n",
    "    #print(converted_area)\n",
    "    dataset['area'] = converted_area\n",
    "    \n",
    "    dataset = dataset.drop(columns = ['page_url'])\n",
    "\n",
    "    print(\"pre-poccessed successfully.\")\n",
    "    \n",
    "    return dataset"
   ]
  },
  {
   "cell_type": "code",
   "execution_count": 24,
   "metadata": {},
   "outputs": [
    {
     "name": "stderr",
     "output_type": "stream",
     "text": [
      "C:\\Users\\Huda\\Anaconda3\\lib\\site-packages\\ipykernel_launcher.py:4: SettingWithCopyWarning: \n",
      "A value is trying to be set on a copy of a slice from a DataFrame\n",
      "\n",
      "See the caveats in the documentation: http://pandas.pydata.org/pandas-docs/stable/user_guide/indexing.html#returning-a-view-versus-a-copy\n",
      "  after removing the cwd from sys.path.\n"
     ]
    },
    {
     "name": "stdout",
     "output_type": "stream",
     "text": [
      "pre-poccessed successfully.\n"
     ]
    },
    {
     "data": {
      "text/html": [
       "<div>\n",
       "<style scoped>\n",
       "    .dataframe tbody tr th:only-of-type {\n",
       "        vertical-align: middle;\n",
       "    }\n",
       "\n",
       "    .dataframe tbody tr th {\n",
       "        vertical-align: top;\n",
       "    }\n",
       "\n",
       "    .dataframe thead th {\n",
       "        text-align: right;\n",
       "    }\n",
       "</style>\n",
       "<table border=\"1\" class=\"dataframe\">\n",
       "  <thead>\n",
       "    <tr style=\"text-align: right;\">\n",
       "      <th></th>\n",
       "      <th>property_id</th>\n",
       "      <th>location_id</th>\n",
       "      <th>property_type</th>\n",
       "      <th>price</th>\n",
       "      <th>location</th>\n",
       "      <th>city</th>\n",
       "      <th>province_name</th>\n",
       "      <th>latitude</th>\n",
       "      <th>longitude</th>\n",
       "      <th>baths</th>\n",
       "      <th>area</th>\n",
       "      <th>purpose</th>\n",
       "      <th>bedrooms</th>\n",
       "      <th>date_added</th>\n",
       "      <th>agency</th>\n",
       "    </tr>\n",
       "  </thead>\n",
       "  <tbody>\n",
       "    <tr>\n",
       "      <td>0</td>\n",
       "      <td>237062</td>\n",
       "      <td>3325</td>\n",
       "      <td>Flat</td>\n",
       "      <td>10000000</td>\n",
       "      <td>G-10</td>\n",
       "      <td>Islamabad</td>\n",
       "      <td>Islamabad Capital</td>\n",
       "      <td>33.679890</td>\n",
       "      <td>73.012640</td>\n",
       "      <td>2</td>\n",
       "      <td>2000.0</td>\n",
       "      <td>For Sale</td>\n",
       "      <td>2</td>\n",
       "      <td>02-04-2019</td>\n",
       "      <td>Individual</td>\n",
       "    </tr>\n",
       "    <tr>\n",
       "      <td>1</td>\n",
       "      <td>346905</td>\n",
       "      <td>3236</td>\n",
       "      <td>Flat</td>\n",
       "      <td>6900000</td>\n",
       "      <td>E-11</td>\n",
       "      <td>Islamabad</td>\n",
       "      <td>Islamabad Capital</td>\n",
       "      <td>33.700993</td>\n",
       "      <td>72.971492</td>\n",
       "      <td>3</td>\n",
       "      <td>2800.0</td>\n",
       "      <td>For Sale</td>\n",
       "      <td>3</td>\n",
       "      <td>05-04-2019</td>\n",
       "      <td>Individual</td>\n",
       "    </tr>\n",
       "    <tr>\n",
       "      <td>2</td>\n",
       "      <td>386513</td>\n",
       "      <td>764</td>\n",
       "      <td>House</td>\n",
       "      <td>16500000</td>\n",
       "      <td>G-15</td>\n",
       "      <td>Islamabad</td>\n",
       "      <td>Islamabad Capital</td>\n",
       "      <td>33.631486</td>\n",
       "      <td>72.926559</td>\n",
       "      <td>6</td>\n",
       "      <td>4000.0</td>\n",
       "      <td>For Sale</td>\n",
       "      <td>5</td>\n",
       "      <td>07-17-2019</td>\n",
       "      <td>Individual</td>\n",
       "    </tr>\n",
       "    <tr>\n",
       "      <td>3</td>\n",
       "      <td>656161</td>\n",
       "      <td>340</td>\n",
       "      <td>House</td>\n",
       "      <td>43500000</td>\n",
       "      <td>Bani Gala</td>\n",
       "      <td>Islamabad</td>\n",
       "      <td>Islamabad Capital</td>\n",
       "      <td>33.707573</td>\n",
       "      <td>73.151199</td>\n",
       "      <td>4</td>\n",
       "      <td>50.0</td>\n",
       "      <td>For Sale</td>\n",
       "      <td>4</td>\n",
       "      <td>04-05-2019</td>\n",
       "      <td>Individual</td>\n",
       "    </tr>\n",
       "    <tr>\n",
       "      <td>4</td>\n",
       "      <td>841645</td>\n",
       "      <td>3226</td>\n",
       "      <td>House</td>\n",
       "      <td>7000000</td>\n",
       "      <td>DHA Defence</td>\n",
       "      <td>Islamabad</td>\n",
       "      <td>Islamabad Capital</td>\n",
       "      <td>33.492591</td>\n",
       "      <td>73.301339</td>\n",
       "      <td>3</td>\n",
       "      <td>4000.0</td>\n",
       "      <td>For Sale</td>\n",
       "      <td>3</td>\n",
       "      <td>07-10-2019</td>\n",
       "      <td>Easy Property</td>\n",
       "    </tr>\n",
       "  </tbody>\n",
       "</table>\n",
       "</div>"
      ],
      "text/plain": [
       "   property_id  location_id property_type     price     location       city  \\\n",
       "0       237062         3325          Flat  10000000         G-10  Islamabad   \n",
       "1       346905         3236          Flat   6900000         E-11  Islamabad   \n",
       "2       386513          764         House  16500000         G-15  Islamabad   \n",
       "3       656161          340         House  43500000    Bani Gala  Islamabad   \n",
       "4       841645         3226         House   7000000  DHA Defence  Islamabad   \n",
       "\n",
       "       province_name   latitude  longitude  baths    area   purpose  bedrooms  \\\n",
       "0  Islamabad Capital  33.679890  73.012640      2  2000.0  For Sale         2   \n",
       "1  Islamabad Capital  33.700993  72.971492      3  2800.0  For Sale         3   \n",
       "2  Islamabad Capital  33.631486  72.926559      6  4000.0  For Sale         5   \n",
       "3  Islamabad Capital  33.707573  73.151199      4    50.0  For Sale         4   \n",
       "4  Islamabad Capital  33.492591  73.301339      3  4000.0  For Sale         3   \n",
       "\n",
       "   date_added         agency  \n",
       "0  02-04-2019     Individual  \n",
       "1  05-04-2019     Individual  \n",
       "2  07-17-2019     Individual  \n",
       "3  04-05-2019     Individual  \n",
       "4  07-10-2019  Easy Property  "
      ]
     },
     "execution_count": 24,
     "metadata": {},
     "output_type": "execute_result"
    }
   ],
   "source": [
    "data = pd.read_csv('dataset/Zameen Property Data.csv')\n",
    "data = pre_poccess(data)\n",
    "data.head(5)"
   ]
  },
  {
   "cell_type": "code",
   "execution_count": 25,
   "metadata": {
    "scrolled": true
   },
   "outputs": [
    {
     "name": "stdout",
     "output_type": "stream",
     "text": [
      "property_id      0\n",
      "location_id      0\n",
      "property_type    0\n",
      "price            0\n",
      "location         0\n",
      "city             0\n",
      "province_name    0\n",
      "latitude         0\n",
      "longitude        0\n",
      "baths            0\n",
      "area             0\n",
      "purpose          0\n",
      "bedrooms         0\n",
      "date_added       0\n",
      "agency           0\n",
      "dtype: int64\n"
     ]
    }
   ],
   "source": [
    "data_null = data.isna().sum()\n",
    "print(data_null)"
   ]
  },
  {
   "cell_type": "code",
   "execution_count": 26,
   "metadata": {},
   "outputs": [
    {
     "data": {
      "image/png": "[encoded data removed]",
      "text/plain": [
       "<Figure size 432x288 with 2 Axes>"
      ]
     },
     "metadata": {},
     "output_type": "display_data"
    }
   ],
   "source": [
    "plt.figure()\n",
    "sns.set(font_scale=1)\n",
    "sns.heatmap(data.corr(),annot=True);"
   ]
  },
  {
   "cell_type": "code",
   "execution_count": 28,
   "metadata": {},
   "outputs": [
    {
     "data": {
      "image/png": "[encoded data removed]",
      "text/plain": [
       "<Figure size 432x288 with 1 Axes>"
      ]
     },
     "metadata": {},
     "output_type": "display_data"
    }
   ],
   "source": [
    "plt.figure()\n",
    "data.corr()['price'].plot(kind='barh');"
   ]
  },
  {
   "cell_type": "code",
   "execution_count": 35,
   "metadata": {},
   "outputs": [
    {
     "name": "stdout",
     "output_type": "stream",
     "text": [
      "numerical:  {'longitude', 'latitude', 'bedrooms', 'property_id', 'price', 'area', 'baths', 'location_id'}\n",
      "categorical:  ['province_name', 'agency', 'purpose', 'property_type', 'location', 'date_added', 'city']\n"
     ]
    }
   ],
   "source": [
    "numer = set(data.corr()['price'].index)\n",
    "categ = list(set(data.columns) - set(data.corr()['price'].index))\n",
    "print('numerical: ',numer)\n",
    "print('categorical: ',categ)"
   ]
  },
  {
   "cell_type": "markdown",
   "metadata": {},
   "source": [
    "Converting categorical data into a numerical: ecoding using factorize"
   ]
  },
  {
   "cell_type": "code",
   "execution_count": 38,
   "metadata": {},
   "outputs": [
    {
     "data": {
      "text/html": [
       "<div>\n",
       "<style scoped>\n",
       "    .dataframe tbody tr th:only-of-type {\n",
       "        vertical-align: middle;\n",
       "    }\n",
       "\n",
       "    .dataframe tbody tr th {\n",
       "        vertical-align: top;\n",
       "    }\n",
       "\n",
       "    .dataframe thead th {\n",
       "        text-align: right;\n",
       "    }\n",
       "</style>\n",
       "<table border=\"1\" class=\"dataframe\">\n",
       "  <thead>\n",
       "    <tr style=\"text-align: right;\">\n",
       "      <th></th>\n",
       "      <th>property_id</th>\n",
       "      <th>location_id</th>\n",
       "      <th>property_type</th>\n",
       "      <th>price</th>\n",
       "      <th>location</th>\n",
       "      <th>city</th>\n",
       "      <th>province_name</th>\n",
       "      <th>latitude</th>\n",
       "      <th>longitude</th>\n",
       "      <th>baths</th>\n",
       "      <th>area</th>\n",
       "      <th>purpose</th>\n",
       "      <th>bedrooms</th>\n",
       "      <th>date_added</th>\n",
       "      <th>agency</th>\n",
       "    </tr>\n",
       "  </thead>\n",
       "  <tbody>\n",
       "    <tr>\n",
       "      <td>0</td>\n",
       "      <td>237062</td>\n",
       "      <td>3325</td>\n",
       "      <td>0</td>\n",
       "      <td>10000000</td>\n",
       "      <td>0</td>\n",
       "      <td>0</td>\n",
       "      <td>0</td>\n",
       "      <td>33.679890</td>\n",
       "      <td>73.012640</td>\n",
       "      <td>2</td>\n",
       "      <td>2000.0</td>\n",
       "      <td>0</td>\n",
       "      <td>2</td>\n",
       "      <td>0</td>\n",
       "      <td>0</td>\n",
       "    </tr>\n",
       "    <tr>\n",
       "      <td>1</td>\n",
       "      <td>346905</td>\n",
       "      <td>3236</td>\n",
       "      <td>0</td>\n",
       "      <td>6900000</td>\n",
       "      <td>1</td>\n",
       "      <td>0</td>\n",
       "      <td>0</td>\n",
       "      <td>33.700993</td>\n",
       "      <td>72.971492</td>\n",
       "      <td>3</td>\n",
       "      <td>2800.0</td>\n",
       "      <td>0</td>\n",
       "      <td>3</td>\n",
       "      <td>1</td>\n",
       "      <td>0</td>\n",
       "    </tr>\n",
       "    <tr>\n",
       "      <td>2</td>\n",
       "      <td>386513</td>\n",
       "      <td>764</td>\n",
       "      <td>1</td>\n",
       "      <td>16500000</td>\n",
       "      <td>2</td>\n",
       "      <td>0</td>\n",
       "      <td>0</td>\n",
       "      <td>33.631486</td>\n",
       "      <td>72.926559</td>\n",
       "      <td>6</td>\n",
       "      <td>4000.0</td>\n",
       "      <td>0</td>\n",
       "      <td>5</td>\n",
       "      <td>2</td>\n",
       "      <td>0</td>\n",
       "    </tr>\n",
       "    <tr>\n",
       "      <td>3</td>\n",
       "      <td>656161</td>\n",
       "      <td>340</td>\n",
       "      <td>1</td>\n",
       "      <td>43500000</td>\n",
       "      <td>3</td>\n",
       "      <td>0</td>\n",
       "      <td>0</td>\n",
       "      <td>33.707573</td>\n",
       "      <td>73.151199</td>\n",
       "      <td>4</td>\n",
       "      <td>50.0</td>\n",
       "      <td>0</td>\n",
       "      <td>4</td>\n",
       "      <td>3</td>\n",
       "      <td>0</td>\n",
       "    </tr>\n",
       "    <tr>\n",
       "      <td>4</td>\n",
       "      <td>841645</td>\n",
       "      <td>3226</td>\n",
       "      <td>1</td>\n",
       "      <td>7000000</td>\n",
       "      <td>4</td>\n",
       "      <td>0</td>\n",
       "      <td>0</td>\n",
       "      <td>33.492591</td>\n",
       "      <td>73.301339</td>\n",
       "      <td>3</td>\n",
       "      <td>4000.0</td>\n",
       "      <td>0</td>\n",
       "      <td>3</td>\n",
       "      <td>4</td>\n",
       "      <td>1</td>\n",
       "    </tr>\n",
       "  </tbody>\n",
       "</table>\n",
       "</div>"
      ],
      "text/plain": [
       "   property_id  location_id  property_type     price  location  city  \\\n",
       "0       237062         3325              0  10000000         0     0   \n",
       "1       346905         3236              0   6900000         1     0   \n",
       "2       386513          764              1  16500000         2     0   \n",
       "3       656161          340              1  43500000         3     0   \n",
       "4       841645         3226              1   7000000         4     0   \n",
       "\n",
       "   province_name   latitude  longitude  baths    area  purpose  bedrooms  \\\n",
       "0              0  33.679890  73.012640      2  2000.0        0         2   \n",
       "1              0  33.700993  72.971492      3  2800.0        0         3   \n",
       "2              0  33.631486  72.926559      6  4000.0        0         5   \n",
       "3              0  33.707573  73.151199      4    50.0        0         4   \n",
       "4              0  33.492591  73.301339      3  4000.0        0         3   \n",
       "\n",
       "   date_added  agency  \n",
       "0           0       0  \n",
       "1           1       0  \n",
       "2           2       0  \n",
       "3           3       0  \n",
       "4           4       1  "
      ]
     },
     "execution_count": 38,
     "metadata": {},
     "output_type": "execute_result"
    }
   ],
   "source": [
    "data_targ = data.copy()\n",
    "for i in categ:\n",
    "    data_targ[i] = data_targ[i].factorize()[0]\n",
    "data_targ.head(5)"
   ]
  },
  {
   "cell_type": "code",
   "execution_count": 40,
   "metadata": {},
   "outputs": [],
   "source": [
    "from sklearn import preprocessing\n",
    "from sklearn.preprocessing import Normalizer,MinMaxScaler, RobustScaler\n",
    "data_targ.drop(['price'],axis=1,inplace=True)\n",
    "nrm = Normalizer()\n",
    "nrm.fit(data_targ)\n",
    "normal_data = nrm.transform(data_targ)"
   ]
  }
 ],
 "metadata": {
  "kernelspec": {
   "display_name": "Python 3",
   "language": "python",
   "name": "python3"
  },
  "language_info": {
   "codemirror_mode": {
    "name": "ipython",
    "version": 3
   },
   "file_extension": ".py",
   "mimetype": "text/x-python",
   "name": "python",
   "nbconvert_exporter": "python",
   "pygments_lexer": "ipython3",
   "version": "3.7.4"
  }
 },
 "nbformat": 4,
 "nbformat_minor": 2
}

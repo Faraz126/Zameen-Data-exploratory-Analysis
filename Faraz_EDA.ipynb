{
 "cells": [
  {
   "cell_type": "code",
   "execution_count": 1,
   "metadata": {},
   "outputs": [],
   "source": [
    "import pandas as pd\n"
   ]
  },
  {
   "cell_type": "code",
   "execution_count": 2,
   "metadata": {},
   "outputs": [],
   "source": [
    "data = pd.read_csv('dataset/Zameen Property Data.csv')"
   ]
  },
  {
   "cell_type": "code",
   "execution_count": 3,
   "metadata": {},
   "outputs": [
    {
     "name": "stderr",
     "output_type": "stream",
     "text": [
      "C:\\Users\\Faraz Ahmed Khan\\OneDrive - Habib University\\semester 7\\DS\\final_project\\final\\Zameen-Data-exploratory-Analysis\\pre_poccess.py:7: SettingWithCopyWarning: \n",
      "A value is trying to be set on a copy of a slice from a DataFrame\n",
      "\n",
      "See the caveats in the documentation: http://pandas.pydata.org/pandas-docs/stable/user_guide/indexing.html#returning-a-view-versus-a-copy\n",
      "  dataset['agency'][dataset['agency'].isnull()] = 'Individual'\n",
      "C:\\Users\\Faraz Ahmed Khan\\OneDrive - Habib University\\semester 7\\DS\\final_project\\final\\Zameen-Data-exploratory-Analysis\\pre_poccess.py:33: SettingWithCopyWarning: \n",
      "A value is trying to be set on a copy of a slice from a DataFrame.\n",
      "Try using .loc[row_indexer,col_indexer] = value instead\n",
      "\n",
      "See the caveats in the documentation: http://pandas.pydata.org/pandas-docs/stable/user_guide/indexing.html#returning-a-view-versus-a-copy\n",
      "  dataset['price_z_score'] = 0\n",
      "C:\\Users\\Faraz Ahmed Khan\\OneDrive - Habib University\\semester 7\\DS\\final_project\\final\\Zameen-Data-exploratory-Analysis\\pre_poccess.py:39: SettingWithCopyWarning: \n",
      "A value is trying to be set on a copy of a slice from a DataFrame\n",
      "\n",
      "See the caveats in the documentation: http://pandas.pydata.org/pandas-docs/stable/user_guide/indexing.html#returning-a-view-versus-a-copy\n",
      "  dataset['price_z_score'][dataset['purpose'] == 'For Sale'] = z_score\n",
      "C:\\ProgramData\\Anaconda3\\lib\\site-packages\\pandas\\core\\generic.py:9114: SettingWithCopyWarning: \n",
      "A value is trying to be set on a copy of a slice from a DataFrame\n",
      "\n",
      "See the caveats in the documentation: http://pandas.pydata.org/pandas-docs/stable/user_guide/indexing.html#returning-a-view-versus-a-copy\n",
      "  self._update_inplace(new_data)\n",
      "C:\\ProgramData\\Anaconda3\\lib\\site-packages\\ipykernel_launcher.py:4: SettingWithCopyWarning: \n",
      "A value is trying to be set on a copy of a slice from a DataFrame\n",
      "\n",
      "See the caveats in the documentation: http://pandas.pydata.org/pandas-docs/stable/user_guide/indexing.html#returning-a-view-versus-a-copy\n",
      "  after removing the cwd from sys.path.\n"
     ]
    },
    {
     "name": "stdout",
     "output_type": "stream",
     "text": [
      "pre-poccessed successfully.\n"
     ]
    },
    {
     "name": "stderr",
     "output_type": "stream",
     "text": [
      "C:\\Users\\Faraz Ahmed Khan\\OneDrive - Habib University\\semester 7\\DS\\final_project\\final\\Zameen-Data-exploratory-Analysis\\pre_poccess.py:45: SettingWithCopyWarning: \n",
      "A value is trying to be set on a copy of a slice from a DataFrame\n",
      "\n",
      "See the caveats in the documentation: http://pandas.pydata.org/pandas-docs/stable/user_guide/indexing.html#returning-a-view-versus-a-copy\n",
      "  dataset['price_z_score'][dataset['purpose'] == 'For Rent'] = z_score\n"
     ]
    }
   ],
   "source": [
    "from pre_poccess import pre_poccess\n",
    "    \n",
    "\n",
    "pp_data = pre_poccess(data)"
   ]
  },
  {
   "cell_type": "code",
   "execution_count": 9,
   "metadata": {},
   "outputs": [
    {
     "name": "stdout",
     "output_type": "stream",
     "text": [
      "  property_type     price     location       city      province_name  \\\n",
      "0          Flat  10000000         G-10  Islamabad  Islamabad Capital   \n",
      "1          Flat   6900000         E-11  Islamabad  Islamabad Capital   \n",
      "2         House  16500000         G-15  Islamabad  Islamabad Capital   \n",
      "3         House  43500000    Bani Gala  Islamabad  Islamabad Capital   \n",
      "4         House   7000000  DHA Defence  Islamabad  Islamabad Capital   \n",
      "\n",
      "    latitude  longitude  baths    area   purpose  bedrooms  date_added  \\\n",
      "0  33.679890  73.012640      2  2000.0  For Sale         2  02-04-2019   \n",
      "1  33.700993  72.971492      3  2800.0  For Sale         3  05-04-2019   \n",
      "2  33.631486  72.926559      6  4000.0  For Sale         5  07-17-2019   \n",
      "3  33.707573  73.151199      4    50.0  For Sale         4  04-05-2019   \n",
      "4  33.492591  73.301339      3  4000.0  For Sale         3  07-10-2019   \n",
      "\n",
      "          agency                                         agent  \\\n",
      "0     Individual                                           NaN   \n",
      "1     Individual                                           NaN   \n",
      "2     Individual                                           NaN   \n",
      "3     Individual                                           NaN   \n",
      "4  Easy Property  Muhammad Junaid Ceo Muhammad Shahid Director   \n",
      "\n",
      "         unique_location  price_per_area  price_z_score  \n",
      "0         G-10 Islamabad     5000.000000      -0.363829  \n",
      "1         E-11 Islamabad     2464.285714      -0.366420  \n",
      "2         G-15 Islamabad     4125.000000      -0.364723  \n",
      "3    Bani Gala Islamabad   870000.000000       0.519814  \n",
      "4  DHA Defence Islamabad     1750.000000      -0.367149  \n"
     ]
    }
   ],
   "source": [
    "print(pp_data.head(5))"
   ]
  },
  {
   "cell_type": "code",
   "execution_count": null,
   "metadata": {},
   "outputs": [],
   "source": []
  },
  {
   "cell_type": "markdown",
   "metadata": {},
   "source": [
    "###Q2\n",
    "Analyzing the recovery period of rent with respect to the selling price of a property"
   ]
  },
  {
   "cell_type": "code",
   "execution_count": 5,
   "metadata": {},
   "outputs": [
    {
     "name": "stdout",
     "output_type": "stream",
     "text": [
      "For Sale    104408\n",
      "For Rent     37577\n",
      "Name: purpose, dtype: int64\n"
     ]
    },
    {
     "data": {
      "text/plain": [
       "<Figure size 1500x700 with 2 Axes>"
      ]
     },
     "metadata": {},
     "output_type": "display_data"
    }
   ],
   "source": [
    "import seaborn as sns\n",
    "import matplotlib.pyplot as plt\n",
    "import numpy as np\n",
    "\n",
    "\n",
    "##checking if data contains any anaomly \n",
    "print(pp_data['purpose'].value_counts())\n",
    "\n",
    "# Share a Y axis with each row of subplots\n",
    "fig, ax = plt.subplots(1, 2, figsize = (15, 7))\n",
    "\n",
    "sns.kdeplot(np.log(pp_data['price_per_area'][pp_data['purpose'] == 'For Sale']), shade = True, ax = ax[0], label = \"Sale\")\n",
    "sns.kdeplot(np.log(pp_data['price_per_area'][pp_data['purpose'] == 'For Rent']), shade = True, ax = ax[1], label = \"Rent\")\n",
    "ax[0].set_xlabel(\"Logged Price (In PKR)\")\n",
    "ax[1].set_xlabel(\"Logged Price (In PKR)\")\n",
    "ax[0].grid();ax[1].grid();\n",
    "plt.show()"
   ]
  },
  {
   "cell_type": "markdown",
   "metadata": {},
   "source": [
    "There appears to be a clear relation between both prices. Both follow a bimodal distribution."
   ]
  },
  {
   "cell_type": "code",
   "execution_count": 6,
   "metadata": {},
   "outputs": [],
   "source": [
    "location_sale_rent = {}\n",
    "for i, row in pp_data.iterrows():\n",
    "    location = row['unique_location'].strip().lower()\n",
    "    price_per_area = row['price_per_area']\n",
    "    purpose = row['purpose']\n",
    "    if location not in location_sale_rent:\n",
    "        location_sale_rent[location] = {'For Sale':[], 'For Rent':[]}\n",
    "    location_sale_rent[location][purpose].append(price_per_area)"
   ]
  },
  {
   "cell_type": "code",
   "execution_count": 7,
   "metadata": {},
   "outputs": [
    {
     "name": "stdout",
     "output_type": "stream",
     "text": [
      "1549\n",
      "552\n"
     ]
    },
    {
     "data": {
      "text/html": [
       "<div>\n",
       "<style scoped>\n",
       "    .dataframe tbody tr th:only-of-type {\n",
       "        vertical-align: middle;\n",
       "    }\n",
       "\n",
       "    .dataframe tbody tr th {\n",
       "        vertical-align: top;\n",
       "    }\n",
       "\n",
       "    .dataframe thead th {\n",
       "        text-align: right;\n",
       "    }\n",
       "</style>\n",
       "<table border=\"1\" class=\"dataframe\">\n",
       "  <thead>\n",
       "    <tr style=\"text-align: right;\">\n",
       "      <th></th>\n",
       "      <th>sale</th>\n",
       "      <th>rent</th>\n",
       "      <th>city</th>\n",
       "      <th>ratio_per_month</th>\n",
       "      <th>ratio_per_year</th>\n",
       "    </tr>\n",
       "  </thead>\n",
       "  <tbody>\n",
       "    <tr>\n",
       "      <td>g-10 islamabad</td>\n",
       "      <td>199485.975250</td>\n",
       "      <td>814.000339</td>\n",
       "      <td>Islamabad</td>\n",
       "      <td>245.0</td>\n",
       "      <td>20.416667</td>\n",
       "    </tr>\n",
       "    <tr>\n",
       "      <td>e-11 islamabad</td>\n",
       "      <td>302345.718713</td>\n",
       "      <td>1402.143998</td>\n",
       "      <td>Islamabad</td>\n",
       "      <td>215.0</td>\n",
       "      <td>17.916667</td>\n",
       "    </tr>\n",
       "    <tr>\n",
       "      <td>g-15 islamabad</td>\n",
       "      <td>115130.115219</td>\n",
       "      <td>403.183141</td>\n",
       "      <td>Islamabad</td>\n",
       "      <td>285.0</td>\n",
       "      <td>23.750000</td>\n",
       "    </tr>\n",
       "    <tr>\n",
       "      <td>bani gala islamabad</td>\n",
       "      <td>440242.454674</td>\n",
       "      <td>1144.963192</td>\n",
       "      <td>Islamabad</td>\n",
       "      <td>384.0</td>\n",
       "      <td>32.000000</td>\n",
       "    </tr>\n",
       "    <tr>\n",
       "      <td>dha defence islamabad</td>\n",
       "      <td>583251.698762</td>\n",
       "      <td>1527.425841</td>\n",
       "      <td>Islamabad</td>\n",
       "      <td>381.0</td>\n",
       "      <td>31.750000</td>\n",
       "    </tr>\n",
       "    <tr>\n",
       "      <td>ghauri town islamabad</td>\n",
       "      <td>7530.445888</td>\n",
       "      <td>21.082755</td>\n",
       "      <td>Islamabad</td>\n",
       "      <td>357.0</td>\n",
       "      <td>29.750000</td>\n",
       "    </tr>\n",
       "    <tr>\n",
       "      <td>korang town islamabad</td>\n",
       "      <td>170562.830868</td>\n",
       "      <td>423.422511</td>\n",
       "      <td>Islamabad</td>\n",
       "      <td>402.0</td>\n",
       "      <td>33.500000</td>\n",
       "    </tr>\n",
       "    <tr>\n",
       "      <td>f-11 islamabad</td>\n",
       "      <td>568685.615308</td>\n",
       "      <td>2620.772169</td>\n",
       "      <td>Islamabad</td>\n",
       "      <td>216.0</td>\n",
       "      <td>18.000000</td>\n",
       "    </tr>\n",
       "    <tr>\n",
       "      <td>diplomatic enclave islamabad</td>\n",
       "      <td>11360.661513</td>\n",
       "      <td>123.396055</td>\n",
       "      <td>Islamabad</td>\n",
       "      <td>92.0</td>\n",
       "      <td>7.666667</td>\n",
       "    </tr>\n",
       "    <tr>\n",
       "      <td>b-17 islamabad</td>\n",
       "      <td>98441.931833</td>\n",
       "      <td>455.631409</td>\n",
       "      <td>Islamabad</td>\n",
       "      <td>216.0</td>\n",
       "      <td>18.000000</td>\n",
       "    </tr>\n",
       "  </tbody>\n",
       "</table>\n",
       "</div>"
      ],
      "text/plain": [
       "                                       sale         rent       city  \\\n",
       "g-10 islamabad                199485.975250   814.000339  Islamabad   \n",
       "e-11 islamabad                302345.718713  1402.143998  Islamabad   \n",
       "g-15 islamabad                115130.115219   403.183141  Islamabad   \n",
       "bani gala islamabad           440242.454674  1144.963192  Islamabad   \n",
       "dha defence islamabad         583251.698762  1527.425841  Islamabad   \n",
       "ghauri town islamabad           7530.445888    21.082755  Islamabad   \n",
       "korang town islamabad         170562.830868   423.422511  Islamabad   \n",
       "f-11 islamabad                568685.615308  2620.772169  Islamabad   \n",
       "diplomatic enclave islamabad   11360.661513   123.396055  Islamabad   \n",
       "b-17 islamabad                 98441.931833   455.631409  Islamabad   \n",
       "\n",
       "                              ratio_per_month  ratio_per_year  \n",
       "g-10 islamabad                          245.0       20.416667  \n",
       "e-11 islamabad                          215.0       17.916667  \n",
       "g-15 islamabad                          285.0       23.750000  \n",
       "bani gala islamabad                     384.0       32.000000  \n",
       "dha defence islamabad                   381.0       31.750000  \n",
       "ghauri town islamabad                   357.0       29.750000  \n",
       "korang town islamabad                   402.0       33.500000  \n",
       "f-11 islamabad                          216.0       18.000000  \n",
       "diplomatic enclave islamabad             92.0        7.666667  \n",
       "b-17 islamabad                          216.0       18.000000  "
      ]
     },
     "execution_count": 7,
     "metadata": {},
     "output_type": "execute_result"
    }
   ],
   "source": [
    "print(len(location_sale_rent))\n",
    "mean_loc_sale_rent = {}\n",
    "\n",
    "for i in location_sale_rent:\n",
    "    for_sale = location_sale_rent[i]['For Sale']\n",
    "    for_rent = location_sale_rent[i]['For Rent']\n",
    "    if (len(for_sale) + len(for_rent)) >= 0 and len(for_sale) > 0 and len(for_rent) > 0:\n",
    "        if i not in mean_loc_sale_rent:\n",
    "            mean_loc_sale_rent[i] = {'sale': 0, 'rent' : 0, 'city':''}\n",
    "        mean_loc_sale_rent[i]['sale'] = np.mean(for_sale)\n",
    "        mean_loc_sale_rent[i]['rent'] = np.mean(for_rent)\n",
    "        mean_loc_sale_rent[i]['city'] = i.split()[-1].capitalize()\n",
    "            \n",
    "print(len(mean_loc_sale_rent))\n",
    "mean_location = pd.DataFrame.from_dict(mean_loc_sale_rent, orient = 'index')\n",
    "mean_location['ratio_per_month'] = np.floor(mean_location['sale'] / mean_location['rent'], dtype = 'float64')\n",
    "mean_location['ratio_per_year'] = (mean_location['ratio_per_month']/12)\n",
    "\n",
    "\n",
    "\n",
    "mean_location.head(10)"
   ]
  },
  {
   "cell_type": "code",
   "execution_count": 8,
   "metadata": {},
   "outputs": [
    {
     "data": {
      "image/png": "[encoded data removed]",
      "text/plain": [
       "<Figure size 1440x864 with 3 Axes>"
      ]
     },
     "metadata": {
      "needs_background": "light"
     },
     "output_type": "display_data"
    }
   ],
   "source": [
    "mean_location = mean_location.drop(mean_location[(mean_location['ratio_per_year'] < 2) | (mean_location['ratio_per_year'] > 80)].index)\n",
    "\n",
    "\n",
    "fig, ax = plt.subplots(1, 3,figsize = (20, 12))\n",
    "sns.boxplot(y = 'ratio_per_year', x = 'city', data = mean_location, showfliers=False, ax = ax[0])\n",
    "ax[0].set_xlabel('Cities')\n",
    "ax[0].set_ylabel(\"Number of years to recover rent to sale price\")\n",
    "ax[0].grid()\n",
    "\n",
    "sns.boxplot(y = np.log(mean_location['rent']), x = mean_location['city'], showfliers=False, ax = ax[1])\n",
    "ax[1].set_xlabel('Cities')\n",
    "ax[1].set_ylabel(\"logged average rent per square area\")\n",
    "ax[1].grid()\n",
    "\n",
    "sns.boxplot(y = np.log(mean_location['sale']), x = mean_location['city'], showfliers=False, ax = ax[2])\n",
    "ax[2].set_xlabel('Cities')\n",
    "ax[2].set_ylabel(\"logged average sale per square area\")\n",
    "ax[2].grid()\n",
    "\n",
    "plt.show()\n",
    "\n",
    "\n"
   ]
  },
  {
   "cell_type": "code",
   "execution_count": null,
   "metadata": {},
   "outputs": [],
   "source": []
  },
  {
   "cell_type": "code",
   "execution_count": null,
   "metadata": {},
   "outputs": [],
   "source": []
  },
  {
   "cell_type": "code",
   "execution_count": null,
   "metadata": {},
   "outputs": [],
   "source": []
  },
  {
   "cell_type": "code",
   "execution_count": null,
   "metadata": {},
   "outputs": [],
   "source": []
  }
 ],
 "metadata": {
  "kernelspec": {
   "display_name": "Python 3",
   "language": "python",
   "name": "python3"
  },
  "language_info": {
   "codemirror_mode": {
    "name": "ipython",
    "version": 3
   },
   "file_extension": ".py",
   "mimetype": "text/x-python",
   "name": "python",
   "nbconvert_exporter": "python",
   "pygments_lexer": "ipython3",
   "version": "3.7.4"
  }
 },
 "nbformat": 4,
 "nbformat_minor": 2
}

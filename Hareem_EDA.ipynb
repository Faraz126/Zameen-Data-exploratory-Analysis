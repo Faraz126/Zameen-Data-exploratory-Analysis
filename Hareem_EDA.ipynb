{
 "cells": [
  {
   "cell_type": "code",
   "execution_count": 1,
   "metadata": {},
   "outputs": [],
   "source": [
    "import pandas as pd\n",
    "import matplotlib.pyplot as plt\n",
    "import seaborn as sn\n",
    "import numpy as np"
   ]
  },
  {
   "cell_type": "code",
   "execution_count": 2,
   "metadata": {},
   "outputs": [
    {
     "name": "stdout",
     "output_type": "stream",
     "text": [
      "145742\n"
     ]
    },
    {
     "name": "stderr",
     "output_type": "stream",
     "text": [
      "C:\\Users\\H square\\anaconda3\\lib\\site-packages\\pandas\\core\\indexing.py:1765: SettingWithCopyWarning: \n",
      "A value is trying to be set on a copy of a slice from a DataFrame.\n",
      "Try using .loc[row_indexer,col_indexer] = value instead\n",
      "\n",
      "See the caveats in the documentation: https://pandas.pydata.org/pandas-docs/stable/user_guide/indexing.html#returning-a-view-versus-a-copy\n",
      "  isetter(loc, value)\n",
      "C:\\Users\\H square\\OneDrive - Habib University\\semester7\\DS\\project\\Zameen-Data-exploratory-Analysis\\pre_poccess.py:42: SettingWithCopyWarning: \n",
      "A value is trying to be set on a copy of a slice from a DataFrame\n",
      "\n",
      "See the caveats in the documentation: https://pandas.pydata.org/pandas-docs/stable/user_guide/indexing.html#returning-a-view-versus-a-copy\n",
      "  dataset['price_z_score'][dataset['purpose'] == 'For Sale'] = z_score\n",
      "C:\\Users\\H square\\anaconda3\\lib\\site-packages\\pandas\\core\\series.py:1020: SettingWithCopyWarning: \n",
      "A value is trying to be set on a copy of a slice from a DataFrame\n",
      "\n",
      "See the caveats in the documentation: https://pandas.pydata.org/pandas-docs/stable/user_guide/indexing.html#returning-a-view-versus-a-copy\n",
      "  self._where(~key, value, inplace=True)\n",
      "C:\\Users\\H square\\OneDrive - Habib University\\semester7\\DS\\project\\Zameen-Data-exploratory-Analysis\\pre_poccess.py:50: SettingWithCopyWarning: \n",
      "A value is trying to be set on a copy of a slice from a DataFrame\n",
      "\n",
      "See the caveats in the documentation: https://pandas.pydata.org/pandas-docs/stable/user_guide/indexing.html#returning-a-view-versus-a-copy\n",
      "  dataset['price_z_score'][dataset['purpose'] == 'For Rent'] = z_score\n"
     ]
    },
    {
     "name": "stdout",
     "output_type": "stream",
     "text": [
      "date done\n",
      "141985\n",
      "pre-poccessed successfully.\n"
     ]
    }
   ],
   "source": [
    "data = pd.read_csv('dataset/Zameen Property Data.csv')\n",
    "\n",
    "from pre_poccess import pre_poccess\n",
    "pp_data = pre_poccess(data)"
   ]
  },
  {
   "cell_type": "code",
   "execution_count": 85,
   "metadata": {},
   "outputs": [
    {
     "data": {
      "text/plain": [
       "(141985, 17)"
      ]
     },
     "execution_count": 85,
     "metadata": {},
     "output_type": "execute_result"
    }
   ],
   "source": [
    "pp_data.shape"
   ]
  },
  {
   "cell_type": "code",
   "execution_count": 3,
   "metadata": {},
   "outputs": [
    {
     "data": {
      "text/plain": [
       "property_type              object\n",
       "price                       int64\n",
       "location                   object\n",
       "city                       object\n",
       "province_name              object\n",
       "latitude                  float64\n",
       "longitude                 float64\n",
       "baths                       int64\n",
       "area                      float64\n",
       "purpose                    object\n",
       "bedrooms                    int64\n",
       "date_added         datetime64[ns]\n",
       "agency                     object\n",
       "unique_location            object\n",
       "price_per_area            float64\n",
       "price_z_score             float64\n",
       "dtype: object"
      ]
     },
     "execution_count": 3,
     "metadata": {},
     "output_type": "execute_result"
    }
   ],
   "source": [
    "pp_data.dtypes"
   ]
  },
  {
   "cell_type": "code",
   "execution_count": 96,
   "metadata": {},
   "outputs": [
    {
     "data": {
      "text/plain": [
       "property_type              object\n",
       "price                       int64\n",
       "location                   object\n",
       "city                       object\n",
       "province_name              object\n",
       "latitude                  float64\n",
       "longitude                 float64\n",
       "baths                       int64\n",
       "area                      float64\n",
       "purpose                    object\n",
       "bedrooms                    int64\n",
       "date_added         datetime64[ns]\n",
       "agency                     object\n",
       "agent                      object\n",
       "unique_location            object\n",
       "price_per_area            float64\n",
       "price_z_score             float64\n",
       "dtype: object"
      ]
     },
     "execution_count": 96,
     "metadata": {},
     "output_type": "execute_result"
    }
   ],
   "source": [
    "pp_data['date_added'] = pp_data['date_added'].apply(pd.to_datetime, format='%m-%d-%Y')\n",
    "pp_data.dtypes"
   ]
  },
  {
   "cell_type": "code",
   "execution_count": 4,
   "metadata": {},
   "outputs": [
    {
     "data": {
      "text/plain": [
       "property_type         7\n",
       "price              1838\n",
       "location           1469\n",
       "city                  5\n",
       "province_name         3\n",
       "latitude           7382\n",
       "longitude          7834\n",
       "baths                16\n",
       "area                295\n",
       "purpose               2\n",
       "bedrooms             20\n",
       "date_added          124\n",
       "agency             5441\n",
       "unique_location    1549\n",
       "price_per_area     9223\n",
       "price_z_score      9694\n",
       "dtype: int64"
      ]
     },
     "execution_count": 4,
     "metadata": {},
     "output_type": "execute_result"
    }
   ],
   "source": [
    "pp_data.nunique()"
   ]
  },
  {
   "cell_type": "code",
   "execution_count": 5,
   "metadata": {},
   "outputs": [
    {
     "data": {
      "text/html": [
       "<div>\n",
       "<style scoped>\n",
       "    .dataframe tbody tr th:only-of-type {\n",
       "        vertical-align: middle;\n",
       "    }\n",
       "\n",
       "    .dataframe tbody tr th {\n",
       "        vertical-align: top;\n",
       "    }\n",
       "\n",
       "    .dataframe thead th {\n",
       "        text-align: right;\n",
       "    }\n",
       "</style>\n",
       "<table border=\"1\" class=\"dataframe\">\n",
       "  <thead>\n",
       "    <tr style=\"text-align: right;\">\n",
       "      <th></th>\n",
       "      <th>price</th>\n",
       "      <th>latitude</th>\n",
       "      <th>longitude</th>\n",
       "      <th>baths</th>\n",
       "      <th>area</th>\n",
       "      <th>bedrooms</th>\n",
       "      <th>price_per_area</th>\n",
       "      <th>price_z_score</th>\n",
       "    </tr>\n",
       "  </thead>\n",
       "  <tbody>\n",
       "    <tr>\n",
       "      <th>count</th>\n",
       "      <td>1.419850e+05</td>\n",
       "      <td>141985.000000</td>\n",
       "      <td>141985.000000</td>\n",
       "      <td>141985.000000</td>\n",
       "      <td>141985.000000</td>\n",
       "      <td>141985.000000</td>\n",
       "      <td>1.419850e+05</td>\n",
       "      <td>141985.000000</td>\n",
       "    </tr>\n",
       "    <tr>\n",
       "      <th>mean</th>\n",
       "      <td>1.518015e+07</td>\n",
       "      <td>29.762628</td>\n",
       "      <td>71.217276</td>\n",
       "      <td>3.256090</td>\n",
       "      <td>2890.192344</td>\n",
       "      <td>3.607790</td>\n",
       "      <td>1.746261e+05</td>\n",
       "      <td>-0.112721</td>\n",
       "    </tr>\n",
       "    <tr>\n",
       "      <th>std</th>\n",
       "      <td>2.226996e+07</td>\n",
       "      <td>3.809042</td>\n",
       "      <td>3.180877</td>\n",
       "      <td>2.314938</td>\n",
       "      <td>2088.327201</td>\n",
       "      <td>1.567217</td>\n",
       "      <td>5.659156e+05</td>\n",
       "      <td>0.666758</td>\n",
       "    </tr>\n",
       "    <tr>\n",
       "      <th>min</th>\n",
       "      <td>1.000000e+00</td>\n",
       "      <td>11.052446</td>\n",
       "      <td>25.906027</td>\n",
       "      <td>0.000000</td>\n",
       "      <td>25.000000</td>\n",
       "      <td>1.000000</td>\n",
       "      <td>4.000000e-04</td>\n",
       "      <td>-0.395096</td>\n",
       "    </tr>\n",
       "    <tr>\n",
       "      <th>25%</th>\n",
       "      <td>2.500000e+05</td>\n",
       "      <td>24.945596</td>\n",
       "      <td>67.130384</td>\n",
       "      <td>2.000000</td>\n",
       "      <td>1500.000000</td>\n",
       "      <td>3.000000</td>\n",
       "      <td>1.888889e+03</td>\n",
       "      <td>-0.366894</td>\n",
       "    </tr>\n",
       "    <tr>\n",
       "      <th>50%</th>\n",
       "      <td>9.000000e+06</td>\n",
       "      <td>31.458942</td>\n",
       "      <td>73.056182</td>\n",
       "      <td>3.000000</td>\n",
       "      <td>2500.000000</td>\n",
       "      <td>3.000000</td>\n",
       "      <td>3.600000e+03</td>\n",
       "      <td>-0.365055</td>\n",
       "    </tr>\n",
       "    <tr>\n",
       "      <th>75%</th>\n",
       "      <td>1.920000e+07</td>\n",
       "      <td>33.550869</td>\n",
       "      <td>74.189715</td>\n",
       "      <td>5.000000</td>\n",
       "      <td>4250.000000</td>\n",
       "      <td>5.000000</td>\n",
       "      <td>5.500000e+03</td>\n",
       "      <td>-0.362552</td>\n",
       "    </tr>\n",
       "    <tr>\n",
       "      <th>max</th>\n",
       "      <td>7.500000e+08</td>\n",
       "      <td>73.184088</td>\n",
       "      <td>76.918917</td>\n",
       "      <td>403.000000</td>\n",
       "      <td>155555.000000</td>\n",
       "      <td>27.000000</td>\n",
       "      <td>3.294118e+06</td>\n",
       "      <td>2.996178</td>\n",
       "    </tr>\n",
       "  </tbody>\n",
       "</table>\n",
       "</div>"
      ],
      "text/plain": [
       "              price       latitude      longitude          baths  \\\n",
       "count  1.419850e+05  141985.000000  141985.000000  141985.000000   \n",
       "mean   1.518015e+07      29.762628      71.217276       3.256090   \n",
       "std    2.226996e+07       3.809042       3.180877       2.314938   \n",
       "min    1.000000e+00      11.052446      25.906027       0.000000   \n",
       "25%    2.500000e+05      24.945596      67.130384       2.000000   \n",
       "50%    9.000000e+06      31.458942      73.056182       3.000000   \n",
       "75%    1.920000e+07      33.550869      74.189715       5.000000   \n",
       "max    7.500000e+08      73.184088      76.918917     403.000000   \n",
       "\n",
       "                area       bedrooms  price_per_area  price_z_score  \n",
       "count  141985.000000  141985.000000    1.419850e+05  141985.000000  \n",
       "mean     2890.192344       3.607790    1.746261e+05      -0.112721  \n",
       "std      2088.327201       1.567217    5.659156e+05       0.666758  \n",
       "min        25.000000       1.000000    4.000000e-04      -0.395096  \n",
       "25%      1500.000000       3.000000    1.888889e+03      -0.366894  \n",
       "50%      2500.000000       3.000000    3.600000e+03      -0.365055  \n",
       "75%      4250.000000       5.000000    5.500000e+03      -0.362552  \n",
       "max    155555.000000      27.000000    3.294118e+06       2.996178  "
      ]
     },
     "execution_count": 5,
     "metadata": {},
     "output_type": "execute_result"
    }
   ],
   "source": [
    "pp_data.describe()"
   ]
  },
  {
   "cell_type": "code",
   "execution_count": 6,
   "metadata": {},
   "outputs": [
    {
     "data": {
      "text/plain": [
       "property_type      0\n",
       "price              0\n",
       "location           0\n",
       "city               0\n",
       "province_name      0\n",
       "latitude           0\n",
       "longitude          0\n",
       "baths              0\n",
       "area               0\n",
       "purpose            0\n",
       "bedrooms           0\n",
       "date_added         0\n",
       "agency             0\n",
       "unique_location    0\n",
       "price_per_area     0\n",
       "price_z_score      0\n",
       "dtype: int64"
      ]
     },
     "execution_count": 6,
     "metadata": {},
     "output_type": "execute_result"
    }
   ],
   "source": [
    "pp_data.isna().sum()"
   ]
  },
  {
   "cell_type": "code",
   "execution_count": 7,
   "metadata": {},
   "outputs": [
    {
     "data": {
      "image/png": "[encoded data removed]",
      "text/plain": [
       "<Figure size 576x432 with 1 Axes>"
      ]
     },
     "metadata": {
      "needs_background": "light"
     },
     "output_type": "display_data"
    }
   ],
   "source": [
    "pp_data.bedrooms.value_counts().plot(kind='bar',figsize=(8,6))\n",
    "plt.xlabel('Number of bedrooms')\n",
    "plt.ylabel('Count')\n",
    "plt.title(\"Count of Bedrooms\")\n",
    "plt.show()"
   ]
  },
  {
   "cell_type": "code",
   "execution_count": 8,
   "metadata": {},
   "outputs": [
    {
     "data": {
      "image/png": "[encoded data removed]",
      "text/plain": [
       "<Figure size 576x432 with 1 Axes>"
      ]
     },
     "metadata": {
      "needs_background": "light"
     },
     "output_type": "display_data"
    }
   ],
   "source": [
    "plt.figure(figsize=(8, 6))\n",
    "plt.scatter(pp_data.bedrooms,pp_data.price)\n",
    "plt.xlabel(\"Number of bedrooms\")\n",
    "plt.ylabel(\"Price\")\n",
    "plt.title(\"Relationship between number of bedrooms and Price\")\n",
    "plt.show()"
   ]
  },
  {
   "cell_type": "code",
   "execution_count": 29,
   "metadata": {},
   "outputs": [
    {
     "name": "stdout",
     "output_type": "stream",
     "text": [
      "Numer of houses ads in Islamabad city: 30702\n",
      "Numer of houses ads in Lahore city: 39141\n",
      "Numer of houses ads in Faisalabad city: 3220\n",
      "Numer of houses ads in Rawalpindi city: 16492\n",
      "Numer of houses ads in Karachi city: 52430\n"
     ]
    }
   ],
   "source": [
    "cities = pp_data.city.unique().tolist()\n",
    "for i in cities:\n",
    "    print(\"Numer of houses ads in \" + i+ \" city:\",len(pp_data[pp_data['city']==i].index))"
   ]
  },
  {
   "cell_type": "code",
   "execution_count": 9,
   "metadata": {},
   "outputs": [
    {
     "name": "stdout",
     "output_type": "stream",
     "text": [
      "Average Sales price for all countries in Rupees:  20613892\n",
      "Average Rent price for all countries in Rupees:  82458\n"
     ]
    }
   ],
   "source": [
    "for_sale = pp_data[pp_data['purpose'] == 'For Sale']\n",
    "for_rent = pp_data[pp_data['purpose'] == 'For Rent']\n",
    "\n",
    "print(\"Average Sales price for all countries in Rupees: \",int(for_sale.price.mean()))\n",
    "print(\"Average Rent price for all countries in Rupees: \",int(for_rent.price.mean()))"
   ]
  },
  {
   "cell_type": "code",
   "execution_count": 10,
   "metadata": {},
   "outputs": [
    {
     "name": "stdout",
     "output_type": "stream",
     "text": [
      "Average Sale Price for Islamabad city:  24033836.750093866\n",
      "Average Sale Price for Lahore city:  23383576.50670652\n",
      "Average Sale Price for Faisalabad city:  13578154.676258992\n",
      "Average Sale Price for Rawalpindi city:  15209368.8170645\n",
      "Average Sale Price for Karachi city:  18480130.664351445\n"
     ]
    }
   ],
   "source": [
    "for i in cities:\n",
    "    print(\"Average Sale Price for \" +i+ \" city: \",for_sale[for_sale['city'] == i].price.mean())"
   ]
  },
  {
   "cell_type": "code",
   "execution_count": 11,
   "metadata": {},
   "outputs": [
    {
     "name": "stdout",
     "output_type": "stream",
     "text": [
      "Average Rent Price for Islamabad city:  93049.62807017544\n",
      "Average Rent Price for Lahore city:  nan\n",
      "Average Rent Price for Faisalabad city:  42617.55020080321\n",
      "Average Rent Price for Rawalpindi city:  43710.200090266284\n",
      "Average Rent Price for Karachi city:  91472.04558132122\n"
     ]
    }
   ],
   "source": [
    "for i in cities:\n",
    "    print(\"Average Rent Price for \" +i+ \" city: \",for_rent[for_rent['city'] == i].price.mean())"
   ]
  },
  {
   "cell_type": "code",
   "execution_count": 12,
   "metadata": {},
   "outputs": [
    {
     "data": {
      "text/plain": [
       "Karachi       52430\n",
       "Lahore        39141\n",
       "Islamabad     30702\n",
       "Rawalpindi    16492\n",
       "Faisalabad     3220\n",
       "Name: city, dtype: int64"
      ]
     },
     "execution_count": 12,
     "metadata": {},
     "output_type": "execute_result"
    }
   ],
   "source": [
    "prop_city_count = pp_data.city.value_counts()\n",
    "prop_city_count"
   ]
  },
  {
   "cell_type": "code",
   "execution_count": 25,
   "metadata": {},
   "outputs": [
    {
     "name": "stdout",
     "output_type": "stream",
     "text": [
      "Number of entries per year:\n"
     ]
    },
    {
     "data": {
      "text/plain": [
       "2019    131120\n",
       "2018     10865\n",
       "Name: date_added, dtype: int64"
      ]
     },
     "execution_count": 25,
     "metadata": {},
     "output_type": "execute_result"
    }
   ],
   "source": [
    "print(\"Number of entries per year:\")\n",
    "pp_data['date_added'].dt.year.value_counts()"
   ]
  },
  {
   "cell_type": "code",
   "execution_count": 33,
   "metadata": {},
   "outputs": [
    {
     "data": {
      "image/png": "[encoded data removed]",
      "text/plain": [
       "<Figure size 432x288 with 1 Axes>"
      ]
     },
     "metadata": {
      "needs_background": "light"
     },
     "output_type": "display_data"
    }
   ],
   "source": [
    "plt.scatter(pp_data['date_added'].dt.isocalendar().week, pp_data.price)\n",
    "plt.xlabel(\"week number\")\n",
    "plt.ylabel(\"Price\")\n",
    "plt.show()"
   ]
  }
 ],
 "metadata": {
  "kernelspec": {
   "display_name": "Python 3",
   "language": "python",
   "name": "python3"
  },
  "language_info": {
   "codemirror_mode": {
    "name": "ipython",
    "version": 3
   },
   "file_extension": ".py",
   "mimetype": "text/x-python",
   "name": "python",
   "nbconvert_exporter": "python",
   "pygments_lexer": "ipython3",
   "version": "3.8.3"
  }
 },
 "nbformat": 4,
 "nbformat_minor": 4
}
